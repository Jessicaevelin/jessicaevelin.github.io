{
  "nbformat": 4,
  "nbformat_minor": 0,
  "metadata": {
    "colab": {
      "name": "Script_limpeza_dados_SES.ipynb",
      "provenance": [],
      "collapsed_sections": [],
      "authorship_tag": "ABX9TyOY/kf4mGjXySM5pl4SK64r",
      "include_colab_link": true
    },
    "kernelspec": {
      "name": "python3",
      "display_name": "Python 3"
    }
  },
  "cells": [
    {
      "cell_type": "markdown",
      "metadata": {
        "id": "view-in-github",
        "colab_type": "text"
      },
      "source": [
        "<a href=\"https://colab.research.google.com/github/Jessicaevelin/jessicaevelin.github.io/blob/main/Script_limpeza_dados_SES.ipynb\" target=\"_parent\"><img src=\"https://colab.research.google.com/assets/colab-badge.svg\" alt=\"Open In Colab\"/></a>"
      ]
    },
    {
      "cell_type": "code",
      "metadata": {
        "id": "KDsh9_Foo_1G"
      },
      "source": [
        "# Pacotes\r\n",
        "import json  # Para ler o arquivo .json\r\n",
        "import pandas as pd  # Para criar o DataFrame\r\n",
        "import requests # Baixar o arquivo da internet\r\n",
        "import numpy as np # Para exportar para excel"
      ],
      "execution_count": 10,
      "outputs": []
    },
    {
      "cell_type": "code",
      "metadata": {
        "id": "1uTGe6diqTxD"
      },
      "source": [
        "# Função para ler o arquivo .JSON\r\n",
        "'''\r\n",
        "def ler_json():\r\n",
        "    with open('meuarquivo.json', 'r', encoding='utf8') as f:\r\n",
        "        return json.load(f)\r\n",
        "data = ler_json()\r\n"
      ],
      "execution_count": null,
      "outputs": []
    },
    {
      "cell_type": "code",
      "metadata": {
        "id": "kIgIssdVrNFj"
      },
      "source": [
        "# Importar os dados diretamente do SES\r\n",
        "\r\n",
        "# Parâmetros\r\n",
        "ano = 2016 # ano dos dados contábeis\r\n",
        "\r\n",
        "# Importação do JSON (WebScraping)\r\n",
        "\r\n",
        "# Ativo\r\n",
        "url = f'http://dados.susep.gov.br/olinda-ide/servico/informacoescontabeis/versao/v1/odata/ContabeisAtivo(Ano=@Ano)?@Ano=%27{ano}%27&$format=json'\r\n",
        "\r\n",
        "# Passivo\r\n",
        "#url =f'http://dados.susep.gov.br/olinda-ide/servico/informacoescontabeis/versao/v1/odata/ContabeisPassivo(Ano=@Ano)?@Ano=%27{ano}%27&$format=json'\r\n",
        "\r\n",
        "# Documentação Request: https://requests.readthedocs.io/pt_BR/latest/user/quickstart.html\r\n",
        "data = requests.get(url)\r\n",
        "data = data.json()\r\n",
        "\r\n",
        "# Transforma o dicionário data em lista obs.: Não consegui trabalhar bem com o formato de dicionário, lista é mais fácil\r\n",
        "dados = data['value']"
      ],
      "execution_count": 3,
      "outputs": []
    },
    {
      "cell_type": "code",
      "metadata": {
        "id": "HpmZE6M0ryme"
      },
      "source": [
        "# Informações básicas\r\n",
        "\r\n",
        "print(type(data))  # Tipo de variavel, Dicionario\r\n",
        "# print(data['value'])  # Localização das informações das empresas\r\n",
        "print(len(data['value']))  # Tamanho do arquivo, 70176 elementos\r\n",
        "print(data['value'][:1])  # O primeiro elemento do array"
      ],
      "execution_count": null,
      "outputs": []
    },
    {
      "cell_type": "code",
      "metadata": {
        "colab": {
          "base_uri": "https://localhost:8080/"
        },
        "id": "-t5YW1W_uFoS",
        "outputId": "d38dbecc-ddc9-4b44-b4c7-d92ec570968d"
      },
      "source": [
        "# Nome das contas\r\n",
        "\r\n",
        "nome_contas = []\r\n",
        "for i in range(0,33): # 33 é o indice do ativo total, depois disso é repetido\r\n",
        "    nome_contas.append(dados[i]['cmptitulo'])\r\n",
        "    \r\n",
        "print(len(nome_contas))"
      ],
      "execution_count": 5,
      "outputs": [
        {
          "output_type": "stream",
          "text": [
            "['CIRCULANTE', 'DISPONÍVEL', 'APLICAÇÕES', 'CRÉDITOS DAS OPERAÇÕES COM SEGUROS E RESSEGUROS', 'CRÉDITOS DAS OPERAÇÕES COM PREVIDÊNCIA COMPLEMENTAR', 'CRÉDITOS DAS OPERAÇÕES DE CAPITALIZAÇÃO', 'ATIVOS DE RESSEGURO E RETROCESSÃO - PROVISÕES TÉCNICAS', 'TÍTULOS E CRÉDITOS A RECEBER', 'OUTROS VALORES E BENS', 'EMPRÉSTIMOS E DEPÓSITOS COMPULSÓRIOS', 'DESPESAS ANTECIPADAS', 'CUSTOS DE AQUISIÇÃO DIFERIDOS', 'DIFERIMENTO - VIGÊNCIA DO RISCO', 'DIFERIMENTO – OUTROS', 'ATIVO NÃO CIRCULANTE', 'REALIZÁVEL A LONGO PRAZO', 'APLICAÇÕES', 'CRÉDITOS DAS OPERAÇÕES COM SEGUROS E RESSEGUROS', 'CRÉDITOS DAS OPERAÇÕES COM PREVIDÊNCIA COMPLEMENTAR', 'CRÉDITOS DAS OPERAÇÕES COM CAPITALIZAÇÃO', 'ATIVOS DE RESSEGURO E RETROCESSÃO - PROVISÕES TÉCNICAS', 'TÍTULOS E CRÉDITOS A RECEBER', 'OUTROS VALORES E BENS', 'EMPRÉSTIMOS E DEPÓSITOS COMPULSÓRIOS', 'DESPESAS ANTECIPADAS', 'CUSTOS DE AQUISIÇÃO DIFERIDOS', 'DIFERIMENTO - VIGÊNCIA DO RISCO', 'DIFERIMENTO – OUTROS', 'INVESTIMENTOS', 'IMOBILIZADO', 'INTANGÍVEL', 'DIFERIDO', '**********   TOTAL DO ATIVO   **********']\n",
            "33\n"
          ],
          "name": "stdout"
        }
      ]
    },
    {
      "cell_type": "code",
      "metadata": {
        "id": "mR_8QljPyABN"
      },
      "source": [
        " # Testando duas formas de pesquisar as contas no banco de dados\r\n",
        " \r\n",
        "'''\r\n",
        "\r\n",
        "for i in range(len(dados)):\r\n",
        "  if dados[i]['cmptitulo'] == 'DISPONÍVEL':\r\n",
        "    conta0.append(dados[i]['cmptitulo'])\r\n",
        "\r\n",
        "for i in range(len(dados)):\r\n",
        "  if dados[i]['cmptitulo'] == nome_contas[1]:\r\n",
        "    conta1.append(dados[i]['cmptitulo'])\r\n",
        "\r\n",
        "print(conta0)\r\n",
        "print(len(conta0))\r\n",
        "\r\n",
        "print(conta1)\r\n",
        "print(len(conta1))\r\n",
        "'''"
      ],
      "execution_count": null,
      "outputs": []
    },
    {
      "cell_type": "code",
      "metadata": {
        "id": "8PRUAXajxbA_",
        "colab": {
          "base_uri": "https://localhost:8080/"
        },
        "outputId": "f1b35a9e-6a63-41dc-90fb-ef8700e76ef4"
      },
      "source": [
        "# listas que vão receber os valores de cada conta\r\n",
        "    # depois encontrar um jeito menos manual de fazer isso\r\n",
        "\r\n",
        "nomes_seguradoras = []\r\n",
        "conta0  = []\r\n",
        "conta1 = []\r\n",
        "conta2 = []\r\n",
        "conta3 = []\r\n",
        "conta4 = []\r\n",
        "conta5 = []\r\n",
        "conta6 = []\r\n",
        "conta7 = []\r\n",
        "conta8 = []\r\n",
        "conta9 = []\r\n",
        "conta10 = []\r\n",
        "conta11 = []\r\n",
        "conta12 = []\r\n",
        "conta13 = []\r\n",
        "conta14 = []\r\n",
        "conta15 = []\r\n",
        "conta16 = []\r\n",
        "conta17 = []\r\n",
        "conta18 = []\r\n",
        "conta19 = []\r\n",
        "conta20 = []\r\n",
        "conta21 = []\r\n",
        "conta22 = []\r\n",
        "conta23 = []\r\n",
        "conta24 = []\r\n",
        "conta25 = []\r\n",
        "conta26 = []\r\n",
        "conta27 = []\r\n",
        "conta28 = []\r\n",
        "conta29 = []\r\n",
        "conta30 = []\r\n",
        "conta31 = []\r\n",
        "conta32 = []\r\n",
        "conta33 = []\r\n",
        "conta34 = []\r\n",
        "\r\n",
        "# Nome das contas acima, na ordem\r\n",
        "print(nome_contas)"
      ],
      "execution_count": 17,
      "outputs": [
        {
          "output_type": "stream",
          "text": [
            "['SEGURADORAS', 'CIRCULANTE', 'DISPONÍVEL', 'APLICAÇÕES', 'CRÉDITOS DAS OPERAÇÕES COM SEGUROS E RESSEGUROS', 'CRÉDITOS DAS OPERAÇÕES COM PREVIDÊNCIA COMPLEMENTAR', 'CRÉDITOS DAS OPERAÇÕES DE CAPITALIZAÇÃO', 'ATIVOS DE RESSEGURO E RETROCESSÃO - PROVISÕES TÉCNICAS', 'TÍTULOS E CRÉDITOS A RECEBER', 'OUTROS VALORES E BENS', 'EMPRÉSTIMOS E DEPÓSITOS COMPULSÓRIOS', 'DESPESAS ANTECIPADAS', 'CUSTOS DE AQUISIÇÃO DIFERIDOS', 'DIFERIMENTO - VIGÊNCIA DO RISCO', 'DIFERIMENTO – OUTROS', 'ATIVO NÃO CIRCULANTE', 'REALIZÁVEL A LONGO PRAZO', 'APLICAÇÕES', 'CRÉDITOS DAS OPERAÇÕES COM SEGUROS E RESSEGUROS', 'CRÉDITOS DAS OPERAÇÕES COM PREVIDÊNCIA COMPLEMENTAR', 'CRÉDITOS DAS OPERAÇÕES COM CAPITALIZAÇÃO', 'ATIVOS DE RESSEGURO E RETROCESSÃO - PROVISÕES TÉCNICAS', 'TÍTULOS E CRÉDITOS A RECEBER', 'OUTROS VALORES E BENS', 'EMPRÉSTIMOS E DEPÓSITOS COMPULSÓRIOS', 'DESPESAS ANTECIPADAS', 'CUSTOS DE AQUISIÇÃO DIFERIDOS', 'DIFERIMENTO - VIGÊNCIA DO RISCO', 'DIFERIMENTO – OUTROS', 'INVESTIMENTOS', 'IMOBILIZADO', 'INTANGÍVEL', 'DIFERIDO', '**********   TOTAL DO ATIVO   **********']\n"
          ],
          "name": "stdout"
        },
        {
          "output_type": "execute_result",
          "data": {
            "text/plain": [
              "[[], []]"
            ]
          },
          "metadata": {
            "tags": []
          },
          "execution_count": 17
        }
      ]
    },
    {
      "cell_type": "code",
      "metadata": {
        "colab": {
          "base_uri": "https://localhost:8080/"
        },
        "id": "bqmnDEdMSx2W",
        "outputId": "5847121b-4f4a-45fa-dd29-ce04a85b9dec"
      },
      "source": [
        ""
      ],
      "execution_count": 15,
      "outputs": [
        {
          "output_type": "execute_result",
          "data": {
            "text/plain": [
              "list"
            ]
          },
          "metadata": {
            "tags": []
          },
          "execution_count": 15
        }
      ]
    },
    {
      "cell_type": "code",
      "metadata": {
        "id": "YukXzPuh_uv3"
      },
      "source": [
        "# Selecionando as empresas, contas e seus valores de Janeiro de 2016.\r\n",
        "\r\n",
        "for i in range(len(dados)):\r\n",
        "  if dados[i]['mesreferencia'] == '2016-01-01':\r\n",
        "    if dados[i]['cmptitulo'] == nome_contas[32]:\r\n",
        "      nomes_seguradoras.append(dados[i]['entnome'])\r\n",
        "\r\n",
        "for i in range(len(dados)):\r\n",
        "    if dados[i]['mesreferencia'] == '2016-01-01':\r\n",
        "        if dados[i]['cmptitulo'] == nome_contas[0]:\r\n",
        "          conta0.append(dados[i]['valor'])\r\n",
        "        if dados[i]['cmptitulo'] == nome_contas[1]:\r\n",
        "          conta1.append(dados[i]['valor'])\r\n",
        "        if dados[i]['cmptitulo'] == nome_contas[2]:\r\n",
        "          conta2.append(dados[i]['valor'])\r\n",
        "        if dados[i]['cmptitulo'] == nome_contas[3]:\r\n",
        "          conta3.append(dados[i]['valor'])  \r\n",
        "        if dados[i]['cmptitulo'] == nome_contas[4]:\r\n",
        "          conta4.append(dados[i]['valor']) \r\n",
        "        if dados[i]['cmptitulo'] == nome_contas[5]:\r\n",
        "          conta5.append(dados[i]['valor']) \r\n",
        "        if dados[i]['cmptitulo'] == nome_contas[6]:\r\n",
        "          conta6.append(dados[i]['valor']) \r\n",
        "        if dados[i]['cmptitulo'] == nome_contas[7]:\r\n",
        "          conta7.append(dados[i]['valor']) \r\n",
        "        if dados[i]['cmptitulo'] == nome_contas[8]:\r\n",
        "          conta8.append(dados[i]['valor']) \r\n",
        "        if dados[i]['cmptitulo'] == nome_contas[9]:\r\n",
        "          conta9.append(dados[i]['valor']) \r\n",
        "        if dados[i]['cmptitulo'] == nome_contas[10]:\r\n",
        "          conta10.append(dados[i]['valor']) \r\n",
        "        if dados[i]['cmptitulo'] == nome_contas[11]:\r\n",
        "          conta11.append(dados[i]['valor']) \r\n",
        "        if dados[i]['cmptitulo'] == nome_contas[12]:\r\n",
        "          conta12.append(dados[i]['valor']) \r\n",
        "        if dados[i]['cmptitulo'] == nome_contas[13]:\r\n",
        "          conta13.append(dados[i]['valor']) \r\n",
        "        if dados[i]['cmptitulo'] == nome_contas[14]:\r\n",
        "          conta14.append(dados[i]['valor']) \r\n",
        "        if dados[i]['cmptitulo'] == nome_contas[15]:\r\n",
        "          conta15.append(dados[i]['valor']) \r\n",
        "        if dados[i]['cmptitulo'] == nome_contas[16]:\r\n",
        "          conta16.append(dados[i]['valor']) \r\n",
        "        if dados[i]['cmptitulo'] == nome_contas[17]:\r\n",
        "          conta17.append(dados[i]['valor']) \r\n",
        "        if dados[i]['cmptitulo'] == nome_contas[18]:\r\n",
        "          conta18.append(dados[i]['valor']) \r\n",
        "        if dados[i]['cmptitulo'] == nome_contas[19]:\r\n",
        "          conta19.append(dados[i]['valor']) \r\n",
        "        if dados[i]['cmptitulo'] == nome_contas[20]:\r\n",
        "          conta20.append(dados[i]['valor']) \r\n",
        "        if dados[i]['cmptitulo'] == nome_contas[21]:\r\n",
        "          conta21.append(dados[i]['valor']) \r\n",
        "        if dados[i]['cmptitulo'] == nome_contas[22]:\r\n",
        "          conta22.append(dados[i]['valor']) \r\n",
        "        if dados[i]['cmptitulo'] == nome_contas[23]:\r\n",
        "          conta23.append(dados[i]['valor']) \r\n",
        "        if dados[i]['cmptitulo'] == nome_contas[24]:\r\n",
        "          conta24.append(dados[i]['valor']) \r\n",
        "        if dados[i]['cmptitulo'] == nome_contas[25]:\r\n",
        "          conta25.append(dados[i]['valor']) \r\n",
        "        if dados[i]['cmptitulo'] == nome_contas[26]:\r\n",
        "          conta26.append(dados[i]['valor']) \r\n",
        "        if dados[i]['cmptitulo'] == nome_contas[27]:\r\n",
        "          conta27.append(dados[i]['valor']) \r\n",
        "        if dados[i]['cmptitulo'] == nome_contas[28]:\r\n",
        "          conta28.append(dados[i]['valor']) \r\n",
        "        if dados[i]['cmptitulo'] == nome_contas[29]:\r\n",
        "          conta29.append(dados[i]['valor']) \r\n",
        "        if dados[i]['cmptitulo'] == nome_contas[30]:\r\n",
        "          conta30.append(dados[i]['valor']) \r\n",
        "        if dados[i]['cmptitulo'] == nome_contas[31]:\r\n",
        "          conta31.append(dados[i]['valor']) \r\n",
        "        if dados[i]['cmptitulo'] == nome_contas[32]:\r\n",
        "          conta32.append(dados[i]['valor']) \r\n",
        "        if dados[i]['cmptitulo'] == nome_contas[33]:\r\n",
        "          conta33.append(dados[i]['valor']) \r\n",
        "\r\n",
        "## Continuar para as 33 contas...        \r\n",
        "## Lembrar que quando roda a celula mais de uma vez os dados são acumulados"
      ],
      "execution_count": 6,
      "outputs": []
    },
    {
      "cell_type": "code",
      "metadata": {
        "colab": {
          "base_uri": "https://localhost:8080/"
        },
        "id": "7-QOJgQAAmA7",
        "outputId": "bc5b34b3-3fd0-4bc4-b4e5-f5aec5e42b46"
      },
      "source": [
        "# Juntando os nomes, contas e valores de cada seguradora em uma só lista.\r\n",
        "\r\n",
        "informacoes_organizadas = []\r\n",
        "\r\n",
        "for a in range(len(nomes_seguradoras)):\r\n",
        "    informacoes_organizadas.append([nomes_seguradoras[a], conta0[a], conta1[a], conta2[a], conta3[a], conta4[a], conta5[a], conta6[a], conta7[a], conta8[a], conta9[a], conta10[a], conta11[a], conta12[a], conta13[a], conta14[a], conta15[a], conta16[a], conta17[a], conta18[a], conta19[a], conta20[a], conta21[a], conta22[a], conta23[a], conta24[a], conta25[a], conta26[a], conta27[a], conta28[a], conta29[a], conta30[a], conta31[a], conta32[a], conta33[a], \r\n",
        " ])\r\n",
        "\r\n",
        "print(informacoes_organizadas)"
      ],
      "execution_count": 18,
      "outputs": [
        {
          "output_type": "stream",
          "text": [
            "[]\n"
          ],
          "name": "stdout"
        }
      ]
    },
    {
      "cell_type": "code",
      "metadata": {
        "colab": {
          "base_uri": "https://localhost:8080/"
        },
        "id": "Bxw8ehtPHWPR",
        "outputId": "b4b37516-6746-40db-f8b4-97463a8eaab4"
      },
      "source": [
        "nome_contas.insert(0,'SEGURADORAS') # Adiciona no indice 0 o nome SEGURADORAS\r\n",
        "colunas = nome_contas[:5]\r\n",
        "colunas"
      ],
      "execution_count": 8,
      "outputs": [
        {
          "output_type": "execute_result",
          "data": {
            "text/plain": [
              "['SEGURADORAS',\n",
              " 'CIRCULANTE',\n",
              " 'DISPONÍVEL',\n",
              " 'APLICAÇÕES',\n",
              " 'CRÉDITOS DAS OPERAÇÕES COM SEGUROS E RESSEGUROS']"
            ]
          },
          "metadata": {
            "tags": []
          },
          "execution_count": 8
        }
      ]
    },
    {
      "cell_type": "code",
      "metadata": {
        "colab": {
          "base_uri": "https://localhost:8080/"
        },
        "id": "WWjE4pcUHMty",
        "outputId": "9c9fb21b-d733-4fd3-8d97-9ee9db1c6208"
      },
      "source": [
        "# Criação do dataframe para facilitar a visualização e das colunas\r\n",
        "df_seguradoras = pd.DataFrame(columns=colunas)\r\n",
        "\r\n",
        "# Armazena cada seguradora em uma linha do dataframe, um abaixo do outro\r\n",
        "for i in range(5):\r\n",
        "    df_seguradoras.loc[len(df_seguradoras)] = informacoes_organizadas[i]\r\n",
        "\r\n",
        "print(df_seguradoras)\r\n"
      ],
      "execution_count": 9,
      "outputs": [
        {
          "output_type": "stream",
          "text": [
            "                                         SEGURADORAS  ...  CRÉDITOS DAS OPERAÇÕES COM SEGUROS E RESSEGUROS\n",
            "0                            ACVAT- PREVIDENCIA S.A.  ...                                             0.00\n",
            "1  AGÊNCIA BRASILEIRA GESTORA DE FUNDOS GARANTIDO...  ...                                             0.00\n",
            "2                         AIG RESSEGUROS BRASIL S.A.  ...                                             0.00\n",
            "3                            AIG SEGUROS BRASIL S.A.  ...                                             0.00\n",
            "4                       ALFA PREVIDÊNCIA E VIDA S.A.  ...                                      50584155.74\n",
            "\n",
            "[5 rows x 5 columns]\n"
          ],
          "name": "stdout"
        }
      ]
    },
    {
      "cell_type": "code",
      "metadata": {
        "id": "jtMPk_EqNAkS"
      },
      "source": [
        "# Salvar em csv\r\n",
        "# df.to_csv(r'D:\\Google Drive\\prog\\projetos\\TCC\\Seguradoras.csv', index = False)\r\n",
        "\r\n",
        "# Salvar em exvel\r\n",
        "df_seguradoras.to_excel('dados_seguradoras_organizados.xlsx')"
      ],
      "execution_count": 11,
      "outputs": []
    }
  ]
}